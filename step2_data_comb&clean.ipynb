{
 "cells": [
  {
   "cell_type": "code",
   "execution_count": 1,
   "metadata": {},
   "outputs": [],
   "source": [
    "import findspark"
   ]
  },
  {
   "cell_type": "code",
   "execution_count": 2,
   "metadata": {},
   "outputs": [],
   "source": [
    "findspark.init('/home/joe/spark-2.4.3-bin-hadoop2.7')"
   ]
  },
  {
   "cell_type": "code",
   "execution_count": 3,
   "metadata": {},
   "outputs": [],
   "source": [
    "import pyspark"
   ]
  },
  {
   "cell_type": "code",
   "execution_count": 4,
   "metadata": {},
   "outputs": [],
   "source": [
    "from pyspark.sql import SparkSession"
   ]
  },
  {
   "cell_type": "code",
   "execution_count": 5,
   "metadata": {},
   "outputs": [],
   "source": [
    "spark = SparkSession.builder.master(\"local\").appName('health').getOrCreate()"
   ]
  },
  {
   "cell_type": "code",
   "execution_count": 6,
   "metadata": {},
   "outputs": [],
   "source": [
    "from pyspark.sql.types import (StructField,StringType,\n",
    "                               TimestampType,LongType,\n",
    "                               IntegerType,StructType)"
   ]
  },
  {
   "cell_type": "code",
   "execution_count": 7,
   "metadata": {},
   "outputs": [],
   "source": [
    "data_schema = [StructField('date',StringType(),True),\n",
    "              StructField('user_id',StringType(),True),\n",
    "              StructField('user_name',StringType(),True),                              \n",
    "              StructField('favorite_count',IntegerType(),True),\n",
    "              StructField('retweet_count',IntegerType(),True),\n",
    "              StructField('text',StringType(),True),\n",
    "              StructField('user_location',StringType(),True)]"
   ]
  },
  {
   "cell_type": "code",
   "execution_count": 8,
   "metadata": {},
   "outputs": [],
   "source": [
    "final_struc = StructType(fields=data_schema)"
   ]
  },
  {
   "cell_type": "code",
   "execution_count": 9,
   "metadata": {},
   "outputs": [],
   "source": [
    "df0 = spark.read.csv('datasets/part00.csv',schema=final_struc)"
   ]
  },
  {
   "cell_type": "code",
   "execution_count": 10,
   "metadata": {},
   "outputs": [],
   "source": [
    "df1 = spark.read.csv('datasets/part01.csv',schema=final_struc)"
   ]
  },
  {
   "cell_type": "code",
   "execution_count": 11,
   "metadata": {},
   "outputs": [],
   "source": [
    "df2 = spark.read.csv('datasets/part02.csv',schema=final_struc)"
   ]
  },
  {
   "cell_type": "code",
   "execution_count": 12,
   "metadata": {},
   "outputs": [],
   "source": [
    "df3 = spark.read.csv('datasets/part03.csv',schema=final_struc)"
   ]
  },
  {
   "cell_type": "code",
   "execution_count": 13,
   "metadata": {},
   "outputs": [],
   "source": [
    "df4 = spark.read.csv('datasets/part04.csv',schema=final_struc)"
   ]
  },
  {
   "cell_type": "code",
   "execution_count": 14,
   "metadata": {},
   "outputs": [],
   "source": [
    "df5 = spark.read.csv('datasets/part05.csv',schema=final_struc)"
   ]
  },
  {
   "cell_type": "code",
   "execution_count": 15,
   "metadata": {},
   "outputs": [],
   "source": [
    "df6 = spark.read.csv('datasets/part06.csv',schema=final_struc)"
   ]
  },
  {
   "cell_type": "code",
   "execution_count": 16,
   "metadata": {},
   "outputs": [],
   "source": [
    "df_raw=df0.union(df1).union(df2).union(df3).union(df4).union(df5).union(df6)"
   ]
  },
  {
   "cell_type": "code",
   "execution_count": 17,
   "metadata": {},
   "outputs": [
    {
     "data": {
      "text/plain": [
       "446011"
      ]
     },
     "execution_count": 17,
     "metadata": {},
     "output_type": "execute_result"
    }
   ],
   "source": [
    "#Step 1: Missing Data:\n",
    "df_raw.count()"
   ]
  },
  {
   "cell_type": "code",
   "execution_count": 18,
   "metadata": {},
   "outputs": [
    {
     "data": {
      "text/plain": [
       "187565"
      ]
     },
     "execution_count": 18,
     "metadata": {},
     "output_type": "execute_result"
    }
   ],
   "source": [
    "df_raw.select('text').distinct().count()"
   ]
  },
  {
   "cell_type": "code",
   "execution_count": 19,
   "metadata": {},
   "outputs": [],
   "source": [
    "df = df_raw.na.drop()"
   ]
  },
  {
   "cell_type": "code",
   "execution_count": 20,
   "metadata": {},
   "outputs": [
    {
     "data": {
      "text/plain": [
       "295327"
      ]
     },
     "execution_count": 20,
     "metadata": {},
     "output_type": "execute_result"
    }
   ],
   "source": [
    "df.count()"
   ]
  },
  {
   "cell_type": "code",
   "execution_count": 21,
   "metadata": {},
   "outputs": [
    {
     "data": {
      "text/plain": [
       "[Row(date='Fri Mar 10 20:43:25 +0000 2017', user_id='49171842', user_name='mmadamimadamm', favorite_count=0, retweet_count=1, text='RT @starr_d: LOL RT @AdamParkhomenko Trumpcare https://t.co/jVQBerfCq1', user_location='Montreal, Quebec, Canada'),\n",
       " Row(date='Fri Mar 10 21:00:35 +0000 2017', user_id='2829157034', user_name='Easy Artisan Website', favorite_count=0, retweet_count=0, text='RT FCSpotlight: What innovation would you like to build? In health care, retail, mobile, entertainment — share you… https://t.co/tNgr99By7H', user_location='Toronto, Ontario'),\n",
       " Row(date='Fri Mar 10 21:44:03 +0000 2017', user_id='1419293432', user_name='Tracy Dallas', favorite_count=0, retweet_count=123, text=\"RT @MotherJones: Trumpcare Would Make America's Opioid Epidemic Even Worse https://t.co/XsAN04Wzmr\", user_location='Vancouver, BC'),\n",
       " Row(date='Fri Mar 10 22:54:51 +0000 2017', user_id='289607643', user_name='Jordan \"DELETES JULY 6\" Woodward', favorite_count=0, retweet_count=0, text='Reduce government interference in the healthcare market is a good start. https://t.co/MS3xKYolCA', user_location='Hamilton, Ontario, Canada'),\n",
       " Row(date='Fri Mar 10 22:57:01 +0000 2017', user_id='14628503', user_name='konobi', favorite_count=0, retweet_count=114, text='RT @PoliticusSarah: Republican Congressman Falls Apart And Admits That Sick People Will Be Screwed On Trumpcare via @politicususa https://t…', user_location='British Columbia, Canada'),\n",
       " Row(date='Fri Mar 10 22:59:43 +0000 2017', user_id='3700663516', user_name='Shirley G', favorite_count=0, retweet_count=1097, text='RT @SenGillibrand: We have to fight back against this horrible mess of a bill. The stakes are literally life and death for millions of Amer…', user_location='Ontario, CA'),\n",
       " Row(date='Fri Mar 10 23:21:29 +0000 2017', user_id='2996071064', user_name='Carly 🇨🇦', favorite_count=0, retweet_count=706, text='RT @Impeach_D_Trump: GOP is so proud of Trumpcare they passed it through committee at 430AM before they knew how much it cost or how many w…', user_location='Regina, SK'),\n",
       " Row(date='Sat Mar 11 00:38:11 +0000 2017', user_id='101791202', user_name='Gluckstein Lawyers', favorite_count=0, retweet_count=1, text='RT @Nia_HealthExpo: Thanks @glucksteinlaw  #NiagaraHealth Expo sponsor @HotelDieuShaver   Oct 21. Get advice from health care experts https…', user_location='Toronto l Ontario l Canada'),\n",
       " Row(date='Sat Mar 11 02:12:37 +0000 2017', user_id='450790462', user_name='Streetworks', favorite_count=0, retweet_count=3, text='RT @momsstoptheharm: More docs prescribing methadone/suboxone ORT urgently needed. Spend the $$ wisely. Lives depend on it.  @bpaynemla. #a…', user_location='Edmonton Alberta Canada'),\n",
       " Row(date='Sat Mar 11 13:38:23 +0000 2017', user_id='2328714525', user_name='John 🇨🇦', favorite_count=0, retweet_count=20187, text='RT @RepJoeKennedy: Watch GOP lawyers admit that repeal plan will cut off coverage to millions  suffering from mental illness &amp; addiction. #…', user_location='Alberta, Canada'),\n",
       " Row(date='Sat Mar 11 15:15:24 +0000 2017', user_id='376377501', user_name='Family Mental Health', favorite_count=0, retweet_count=0, text='Ontario, Quebec and Alberta sign health-care deals with federal government https://t.co/CujsZX2GwI', user_location='Barrie, Ontario, Canada'),\n",
       " Row(date='Sat Mar 11 16:00:38 +0000 2017', user_id='197501338', user_name='Ontario Medical Association', favorite_count=4, retweet_count=6, text=\"Primary care all but ignored in #Bill41; Ontario's attempt to improve health care misses the mark https://t.co/egbDWWzuu9   #OnPoli\", user_location='Toronto, Ontario'),\n",
       " Row(date='Sat Mar 11 18:23:51 +0000 2017', user_id='118228548', user_name='Siriusly🇨🇦Kath🐓🍷', favorite_count=0, retweet_count=363, text='RT @ACLU: We #CelebrateAbortionProviders for treating our lives, health and bodies with gentle and compassionate healthcare. https://t.co/j…', user_location='Etobicoke, ON'),\n",
       " Row(date='Sat Mar 11 18:58:51 +0000 2017', user_id='202884906', user_name='Rob Hadley', favorite_count=0, retweet_count=1, text=\"RT @cwdakota: #TrumpCare it's like Trump University except you die\", user_location='Vancouver, British Columbia'),\n",
       " Row(date='Sat Mar 11 19:13:39 +0000 2017', user_id='2215760684', user_name='jlanza', favorite_count=0, retweet_count=3, text=\"RT @SparkPerform: Yeah, my mom can't swing that. #shame #Trumpcare Get real @GOP https://t.co/CUelccpesp\", user_location='Southwest Ontario'),\n",
       " Row(date='Sat Mar 11 19:15:54 +0000 2017', user_id='59716593', user_name='Wiseman', favorite_count=0, retweet_count=2, text='RT @Infoway: We live in a digital age and Canada’s health care system becomes more digital every day. Let’s #thinkdigitalhealth https://t.c…', user_location='Victoria, BC'),\n",
       " Row(date='Sat Mar 11 19:17:00 +0000 2017', user_id='828159286987534300', user_name='Jill Scott', favorite_count=1, retweet_count=0, text='@skhamik @SenSanders People will see what #Trumpcare really is, and like the immune system will protect the body. People must see to know!', user_location='Alberta, Portland'),\n",
       " Row(date='Sat Mar 11 20:49:21 +0000 2017', user_id='2443255615', user_name='Angus Maciver', favorite_count=0, retweet_count=5, text=\"RT @JBMatthews: Best alternate name I've heard is DonTCare. https://t.co/czZ1rnByhx\", user_location='Avonbank, Ontario'),\n",
       " Row(date='Sat Mar 11 22:14:23 +0000 2017', user_id='2350282104', user_name='Kelly Mallette', favorite_count=0, retweet_count=6806, text='RT @SenSanders: On repealing Obamacare Republicans are scrambling, they are embarrassed, and that tells us they are on the defensive. Keep…', user_location='Winnipeg, Manitoba, Canada'),\n",
       " Row(date='Sat Mar 11 22:21:26 +0000 2017', user_id='272071865', user_name='Kamila S.N.A.P.S', favorite_count=0, retweet_count=520, text='RT @RaquelWillis_: Trans women have been hypersexualized in the media, exploited for our bodies, paid less, denied healthcare and told our…', user_location='Toronto, Ontario')]"
      ]
     },
     "execution_count": 21,
     "metadata": {},
     "output_type": "execute_result"
    }
   ],
   "source": [
    "df.head(20)"
   ]
  },
  {
   "cell_type": "code",
   "execution_count": 22,
   "metadata": {},
   "outputs": [],
   "source": [
    "#Step 2: Formatting:\n",
    "# Formatting \"date\" Attribute:\n",
    "from pyspark.sql.functions import split\n",
    "split_date = pyspark.sql.functions.split(df['date'], ' ')"
   ]
  },
  {
   "cell_type": "code",
   "execution_count": 23,
   "metadata": {},
   "outputs": [],
   "source": [
    "df_split = df.withColumn('year', split_date.getItem(5).cast('int'))"
   ]
  },
  {
   "cell_type": "code",
   "execution_count": 24,
   "metadata": {},
   "outputs": [],
   "source": [
    "df_split = df_split.withColumn('month', split_date.getItem(1))"
   ]
  },
  {
   "cell_type": "code",
   "execution_count": 25,
   "metadata": {},
   "outputs": [],
   "source": [
    "df_split = df_split.withColumn('day', split_date.getItem(2).cast('int'))"
   ]
  },
  {
   "cell_type": "code",
   "execution_count": 26,
   "metadata": {},
   "outputs": [
    {
     "name": "stdout",
     "output_type": "stream",
     "text": [
      "+--------------------+------------------+--------------------+--------------+-------------+--------------------+--------------------+----+-----+---+\n",
      "|                date|           user_id|           user_name|favorite_count|retweet_count|                text|       user_location|year|month|day|\n",
      "+--------------------+------------------+--------------------+--------------+-------------+--------------------+--------------------+----+-----+---+\n",
      "|Fri Mar 10 20:43:...|          49171842|       mmadamimadamm|             0|            1|RT @starr_d: LOL ...|Montreal, Quebec,...|2017|  Mar| 10|\n",
      "|Fri Mar 10 21:00:...|        2829157034|Easy Artisan Website|             0|            0|RT FCSpotlight: W...|    Toronto, Ontario|2017|  Mar| 10|\n",
      "|Fri Mar 10 21:44:...|        1419293432|        Tracy Dallas|             0|          123|RT @MotherJones: ...|       Vancouver, BC|2017|  Mar| 10|\n",
      "|Fri Mar 10 22:54:...|         289607643|Jordan \"DELETES J...|             0|            0|Reduce government...|Hamilton, Ontario...|2017|  Mar| 10|\n",
      "|Fri Mar 10 22:57:...|          14628503|              konobi|             0|          114|RT @PoliticusSara...|British Columbia,...|2017|  Mar| 10|\n",
      "|Fri Mar 10 22:59:...|        3700663516|           Shirley G|             0|         1097|RT @SenGillibrand...|         Ontario, CA|2017|  Mar| 10|\n",
      "|Fri Mar 10 23:21:...|        2996071064|          Carly 🇨🇦|             0|          706|RT @Impeach_D_Tru...|          Regina, SK|2017|  Mar| 10|\n",
      "|Sat Mar 11 00:38:...|         101791202|  Gluckstein Lawyers|             0|            1|RT @Nia_HealthExp...|Toronto l Ontario...|2017|  Mar| 11|\n",
      "|Sat Mar 11 02:12:...|         450790462|         Streetworks|             0|            3|RT @momsstoptheha...|Edmonton Alberta ...|2017|  Mar| 11|\n",
      "|Sat Mar 11 13:38:...|        2328714525|           John 🇨🇦|             0|        20187|RT @RepJoeKennedy...|     Alberta, Canada|2017|  Mar| 11|\n",
      "|Sat Mar 11 15:15:...|         376377501|Family Mental Health|             0|            0|Ontario, Quebec a...|Barrie, Ontario, ...|2017|  Mar| 11|\n",
      "|Sat Mar 11 16:00:...|         197501338|Ontario Medical A...|             4|            6|Primary care all ...|    Toronto, Ontario|2017|  Mar| 11|\n",
      "|Sat Mar 11 18:23:...|         118228548|Siriusly🇨🇦Kath🐓🍷|             0|          363|RT @ACLU: We #Cel...|       Etobicoke, ON|2017|  Mar| 11|\n",
      "|Sat Mar 11 18:58:...|         202884906|          Rob Hadley|             0|            1|RT @cwdakota: #Tr...|Vancouver, Britis...|2017|  Mar| 11|\n",
      "|Sat Mar 11 19:13:...|        2215760684|              jlanza|             0|            3|RT @SparkPerform:...|   Southwest Ontario|2017|  Mar| 11|\n",
      "|Sat Mar 11 19:15:...|          59716593|             Wiseman|             0|            2|RT @Infoway: We l...|        Victoria, BC|2017|  Mar| 11|\n",
      "|Sat Mar 11 19:17:...|828159286987534300|          Jill Scott|             1|            0|@skhamik @SenSand...|   Alberta, Portland|2017|  Mar| 11|\n",
      "|Sat Mar 11 20:49:...|        2443255615|       Angus Maciver|             0|            5|RT @JBMatthews: B...|   Avonbank, Ontario|2017|  Mar| 11|\n",
      "|Sat Mar 11 22:14:...|        2350282104|      Kelly Mallette|             0|         6806|RT @SenSanders: O...|Winnipeg, Manitob...|2017|  Mar| 11|\n",
      "|Sat Mar 11 22:21:...|         272071865|    Kamila S.N.A.P.S|             0|          520|RT @RaquelWillis_...|    Toronto, Ontario|2017|  Mar| 11|\n",
      "+--------------------+------------------+--------------------+--------------+-------------+--------------------+--------------------+----+-----+---+\n",
      "only showing top 20 rows\n",
      "\n"
     ]
    }
   ],
   "source": [
    "df_split.show()"
   ]
  },
  {
   "cell_type": "code",
   "execution_count": 27,
   "metadata": {},
   "outputs": [],
   "source": [
    "from pyspark.sql import functions as F\n",
    "df_1 = df_split.withColumn('month_num',\n",
    "    F.when(df_split['month']=='Jan',1).\n",
    "                           when(df_split['month']=='Feb',2).\n",
    "                           when(df_split['month']=='Mar',3).\n",
    "                           when(df_split['month']=='Apr',4).\n",
    "                           when(df_split['month']=='May',5).\n",
    "                           when(df_split['month']=='Jun',6).\n",
    "                           when(df_split['month']=='Jul',7).\n",
    "                           when(df_split['month']=='Aug',8).\n",
    "                           when(df_split['month']=='Sep',9).\n",
    "                           when(df_split['month']=='Oct',10).\n",
    "                           when(df_split['month']=='Nov',11).\n",
    "                           when(df_split['month']=='Sep',12).\n",
    "                           otherwise(df_split['month'])).drop('month').drop('date')"
   ]
  },
  {
   "cell_type": "code",
   "execution_count": 28,
   "metadata": {},
   "outputs": [
    {
     "name": "stdout",
     "output_type": "stream",
     "text": [
      "root\n",
      " |-- user_id: string (nullable = true)\n",
      " |-- user_name: string (nullable = true)\n",
      " |-- favorite_count: integer (nullable = true)\n",
      " |-- retweet_count: integer (nullable = true)\n",
      " |-- text: string (nullable = true)\n",
      " |-- user_location: string (nullable = true)\n",
      " |-- year: integer (nullable = true)\n",
      " |-- day: integer (nullable = true)\n",
      " |-- month_num: string (nullable = true)\n",
      "\n"
     ]
    }
   ],
   "source": [
    "df_1.printSchema()"
   ]
  },
  {
   "cell_type": "code",
   "execution_count": 29,
   "metadata": {},
   "outputs": [],
   "source": [
    "df_2 = df_1.withColumn('month',df_1[\"month_num\"].cast(IntegerType()))"
   ]
  },
  {
   "cell_type": "code",
   "execution_count": 30,
   "metadata": {},
   "outputs": [
    {
     "name": "stdout",
     "output_type": "stream",
     "text": [
      "root\n",
      " |-- user_id: string (nullable = true)\n",
      " |-- user_name: string (nullable = true)\n",
      " |-- favorite_count: integer (nullable = true)\n",
      " |-- retweet_count: integer (nullable = true)\n",
      " |-- text: string (nullable = true)\n",
      " |-- user_location: string (nullable = true)\n",
      " |-- year: integer (nullable = true)\n",
      " |-- day: integer (nullable = true)\n",
      " |-- month_num: string (nullable = true)\n",
      " |-- month: integer (nullable = true)\n",
      "\n"
     ]
    }
   ],
   "source": [
    "df_2.printSchema()"
   ]
  },
  {
   "cell_type": "code",
   "execution_count": 31,
   "metadata": {},
   "outputs": [],
   "source": [
    "df_2 = df_2.select(['year','month','day','user_id','user_location','user_name','favorite_count','retweet_count','text'])"
   ]
  },
  {
   "cell_type": "code",
   "execution_count": 32,
   "metadata": {},
   "outputs": [
    {
     "name": "stdout",
     "output_type": "stream",
     "text": [
      "root\n",
      " |-- year: integer (nullable = true)\n",
      " |-- month: integer (nullable = true)\n",
      " |-- day: integer (nullable = true)\n",
      " |-- user_id: string (nullable = true)\n",
      " |-- user_location: string (nullable = true)\n",
      " |-- user_name: string (nullable = true)\n",
      " |-- favorite_count: integer (nullable = true)\n",
      " |-- retweet_count: integer (nullable = true)\n",
      " |-- text: string (nullable = true)\n",
      "\n"
     ]
    }
   ],
   "source": [
    "df_2.printSchema()"
   ]
  },
  {
   "cell_type": "code",
   "execution_count": 32,
   "metadata": {},
   "outputs": [],
   "source": [
    "#Step 2: Formatting:\n",
    "# Formatting \"user_location\" Attribute:"
   ]
  },
  {
   "cell_type": "code",
   "execution_count": 33,
   "metadata": {},
   "outputs": [],
   "source": [
    "test = df_2.filter(df['user_location'].rlike('Newfoundland and Labrador')|df['user_location'].rlike('NL'))"
   ]
  },
  {
   "cell_type": "code",
   "execution_count": 34,
   "metadata": {},
   "outputs": [
    {
     "data": {
      "text/plain": [
       "3399"
      ]
     },
     "execution_count": 34,
     "metadata": {},
     "output_type": "execute_result"
    }
   ],
   "source": [
    "test.count()"
   ]
  },
  {
   "cell_type": "code",
   "execution_count": 35,
   "metadata": {},
   "outputs": [
    {
     "name": "stdout",
     "output_type": "stream",
     "text": [
      "+----+-----+---+----------+--------------------+-----------------+--------------+-------------+--------------------+\n",
      "|year|month|day|   user_id|       user_location|        user_name|favorite_count|retweet_count|                text|\n",
      "+----+-----+---+----------+--------------------+-----------------+--------------+-------------+--------------------+\n",
      "|2017|    3| 13|  20446536|Newfoundland and ...|    Terry Cormier|             0|         3024|RT @timkaine: POT...|\n",
      "|2017|    6| 14|  25493262|Stephenville Cros...|    D'Arcy Butler|             0|            0|@VOCMOpenline sur...|\n",
      "|2017|    6| 20| 280082481|Newfoundland and ...|     Janis Sexton|             0|         3846|RT @mattmfm: Back...|\n",
      "|2017|    6| 20| 280082481|Newfoundland and ...|     Janis Sexton|             0|         5670|RT @ChrisMurphyCT...|\n",
      "|2017|    3| 12| 280082481|Newfoundland and ...|     Janis Sexton|             0|          812|RT @docrocktex26:...|\n",
      "|2017|    3| 14| 280082481|Newfoundland and ...|     Janis Sexton|             0|            1|RT @Doorcow: Ryan...|\n",
      "|2017|    6|  7|1359113204|       Vinkeveen, NL|     Marja Ho-dac|             0|            9|RT @lean_rregan: ...|\n",
      "|2017|    6| 20| 549700966|Newfoundland and ...|           POUTUS|             0|        17402|RT @kurteichenwal...|\n",
      "|2017|    6| 11| 549700966|Newfoundland and ...|           POUTUS|             0|         2385|RT @TrueFactsStat...|\n",
      "|2017|    6| 19| 280082481|Newfoundland and ...|     Janis Sexton|             0|          136|RT @alexandraerin...|\n",
      "|2017|    6| 20| 280082481|Newfoundland and ...|     Janis Sexton|             0|          213|RT @RVAwonk: 11. ...|\n",
      "|2017|    6| 20| 280082481|Newfoundland and ...|     Janis Sexton|             0|         3917|RT @KamalaHarris:...|\n",
      "|2017|    3| 12|1352325078|      St. John's, NL|     Fred Furlong|             0|          735|RT @meakoopa: lol...|\n",
      "|2017|    3| 14|  57111160|      St. John's, NL|Charmaine Davidge|             0|            5|RT @PLIAN_NL: Hap...|\n",
      "|2017|    6| 11| 269959579|       Rotterdam, NL|   Daniel Pointer|             0|           11|RT @RimSarah: We ...|\n",
      "|2017|    3| 10| 280082481|Newfoundland and ...|     Janis Sexton|             0|         8802|RT @RepAdamSchiff...|\n",
      "|2017|    6|  9|1626099920|Newfoundland and ...|  Kelli Blackwood|             0|         4078|RT @clairecmc: NO...|\n",
      "|2017|    3| 12| 280082481|Newfoundland and ...|     Janis Sexton|             0|            1|RT @JesseSharratt...|\n",
      "|2017|    6|  8| 549700966|Newfoundland and ...|           POUTUS|             0|           54|RT @Annod40: Chuc...|\n",
      "|2017|    3| 14| 280082481|Newfoundland and ...|     Janis Sexton|             0|         4639|RT @ericgeller: H...|\n",
      "+----+-----+---+----------+--------------------+-----------------+--------------+-------------+--------------------+\n",
      "only showing top 20 rows\n",
      "\n"
     ]
    }
   ],
   "source": [
    "test.show()"
   ]
  },
  {
   "cell_type": "code",
   "execution_count": 36,
   "metadata": {},
   "outputs": [],
   "source": [
    "from pyspark.sql import functions as F\n",
    "df_3 = df_2.withColumn('user_location_ab',\n",
    "                       F.when(df_2.user_location.rlike('Newfoundland and Labrador')|df_2.user_location.rlike('NL'),'NL').\n",
    "                       when(df_2.user_location.rlike('Alberta')|df_2.user_location.rlike('AB'),'AB').\n",
    "                       when(df_2.user_location.rlike('Saskatchewan')|df_2.user_location.rlike('SK'),'SK').\n",
    "                       when(df_2.user_location.rlike('Prince Edward Island')|df_2.user_location.rlike('PE'),'PE').\n",
    "                       when(df_2.user_location.rlike('British Columbia')|df_2.user_location.rlike('BC'),'BC').\n",
    "                       when(df_2.user_location.rlike('Manitoba')|df_2.user_location.rlike('MB'),'MB').\n",
    "                       when(df_2.user_location.rlike('New Brunswick')|df_2.user_location.rlike('NB'),'NB').\n",
    "                       when(df_2.user_location.rlike('Nova Scotia')|df_2.user_location.rlike('NS'),'NS').\n",
    "                       when(df_2.user_location.rlike('Quebec')|df_2.user_location.rlike('QC'),'QC').\n",
    "                       when(df_2.user_location.rlike('Ontario')|df_2.user_location.rlike('ON'),'ON').\n",
    "                       otherwise(None)).drop('user_location').drop('user_id')"
   ]
  },
  {
   "cell_type": "code",
   "execution_count": 37,
   "metadata": {},
   "outputs": [
    {
     "name": "stdout",
     "output_type": "stream",
     "text": [
      "root\n",
      " |-- year: integer (nullable = true)\n",
      " |-- month: integer (nullable = true)\n",
      " |-- day: integer (nullable = true)\n",
      " |-- user_name: string (nullable = true)\n",
      " |-- favorite_count: integer (nullable = true)\n",
      " |-- retweet_count: integer (nullable = true)\n",
      " |-- text: string (nullable = true)\n",
      " |-- user_location_ab: string (nullable = true)\n",
      "\n"
     ]
    }
   ],
   "source": [
    "df_3.printSchema()"
   ]
  },
  {
   "cell_type": "code",
   "execution_count": 38,
   "metadata": {},
   "outputs": [
    {
     "name": "stdout",
     "output_type": "stream",
     "text": [
      "+-------+--------------------+------------------+------------------+--------------------+------------------+------------------+--------------------+----------------+\n",
      "|summary|                year|             month|               day|           user_name|    favorite_count|     retweet_count|                text|user_location_ab|\n",
      "+-------+--------------------+------------------+------------------+--------------------+------------------+------------------+--------------------+----------------+\n",
      "|  count|              295327|            295327|            295327|              295327|            295327|            295327|              295327|          295299|\n",
      "|   mean|              2017.0| 7.327633436834424|16.227832199561842|1.5043132632916667E9|0.9724847372573453| 5002.326438151608|                null|            null|\n",
      "| stddev|1.802240111135220...|1.8180823835140105| 7.756094624296451|3.4359974325219607E9|163.20630493463077|15030.196391165475|                null|            null|\n",
      "|    min|                2017|                 3|                 1|                !!!!|                 0|                 0|!! Sen. Collins d...|              AB|\n",
      "|    max|                2017|                10|                31| 󠁮󠁮Tam (Rock Girl)|             81655|            155397|🤦🏻‍♀️ another b...|              SK|\n",
      "+-------+--------------------+------------------+------------------+--------------------+------------------+------------------+--------------------+----------------+\n",
      "\n"
     ]
    }
   ],
   "source": [
    "df_3.describe().show()"
   ]
  },
  {
   "cell_type": "code",
   "execution_count": 39,
   "metadata": {},
   "outputs": [
    {
     "data": {
      "text/plain": [
       "Row(year=2017, month=3, day=10, user_name='mmadamimadamm', favorite_count=0, retweet_count=1, text='RT @starr_d: LOL RT @AdamParkhomenko Trumpcare https://t.co/jVQBerfCq1', user_location_ab='QC')"
      ]
     },
     "execution_count": 39,
     "metadata": {},
     "output_type": "execute_result"
    }
   ],
   "source": [
    "df_3.head()"
   ]
  },
  {
   "cell_type": "code",
   "execution_count": 40,
   "metadata": {},
   "outputs": [
    {
     "data": {
      "text/plain": [
       "3399"
      ]
     },
     "execution_count": 40,
     "metadata": {},
     "output_type": "execute_result"
    }
   ],
   "source": [
    "df_3.filter(df_3['user_location_ab'] == 'NL').count()"
   ]
  },
  {
   "cell_type": "code",
   "execution_count": 41,
   "metadata": {},
   "outputs": [
    {
     "data": {
      "text/plain": [
       "295327"
      ]
     },
     "execution_count": 41,
     "metadata": {},
     "output_type": "execute_result"
    }
   ],
   "source": [
    "df_3.count()"
   ]
  },
  {
   "cell_type": "code",
   "execution_count": 42,
   "metadata": {},
   "outputs": [
    {
     "data": {
      "text/plain": [
       "290363"
      ]
     },
     "execution_count": 42,
     "metadata": {},
     "output_type": "execute_result"
    }
   ],
   "source": [
    "df_3.select('text','user_name').distinct().count()"
   ]
  },
  {
   "cell_type": "code",
   "execution_count": 43,
   "metadata": {},
   "outputs": [
    {
     "name": "stdout",
     "output_type": "stream",
     "text": [
      "+-----+----+\n",
      "|month|year|\n",
      "+-----+----+\n",
      "|    3|2017|\n",
      "|    6|2017|\n",
      "|    7|2017|\n",
      "|    8|2017|\n",
      "|    9|2017|\n",
      "|    5|2017|\n",
      "|   10|2017|\n",
      "+-----+----+\n",
      "\n"
     ]
    }
   ],
   "source": [
    "df_3.select('month','year').distinct().show()"
   ]
  },
  {
   "cell_type": "code",
   "execution_count": 44,
   "metadata": {},
   "outputs": [
    {
     "data": {
      "text/plain": [
       "294556"
      ]
     },
     "execution_count": 44,
     "metadata": {},
     "output_type": "execute_result"
    }
   ],
   "source": [
    "#Step 4: Drop Duplicates:\n",
    "\n",
    "df_3.dropDuplicates().count()"
   ]
  },
  {
   "cell_type": "code",
   "execution_count": 45,
   "metadata": {},
   "outputs": [],
   "source": [
    "df_4=df_3.dropDuplicates()"
   ]
  },
  {
   "cell_type": "code",
   "execution_count": 67,
   "metadata": {},
   "outputs": [],
   "source": [
    "#Step 5: Adding a label based on sentiment analysis about 'text':\n",
    "# Step 5.1 add some infor about 'text'"
   ]
  },
  {
   "cell_type": "code",
   "execution_count": 46,
   "metadata": {},
   "outputs": [],
   "source": [
    "import pandas as pd\n",
    "import numpy as np"
   ]
  },
  {
   "cell_type": "code",
   "execution_count": 47,
   "metadata": {},
   "outputs": [],
   "source": [
    "pandas_df = df_4.toPandas()"
   ]
  },
  {
   "cell_type": "code",
   "execution_count": 48,
   "metadata": {},
   "outputs": [
    {
     "data": {
      "text/html": [
       "<div>\n",
       "<style scoped>\n",
       "    .dataframe tbody tr th:only-of-type {\n",
       "        vertical-align: middle;\n",
       "    }\n",
       "\n",
       "    .dataframe tbody tr th {\n",
       "        vertical-align: top;\n",
       "    }\n",
       "\n",
       "    .dataframe thead th {\n",
       "        text-align: right;\n",
       "    }\n",
       "</style>\n",
       "<table border=\"1\" class=\"dataframe\">\n",
       "  <thead>\n",
       "    <tr style=\"text-align: right;\">\n",
       "      <th></th>\n",
       "      <th>year</th>\n",
       "      <th>month</th>\n",
       "      <th>day</th>\n",
       "      <th>user_name</th>\n",
       "      <th>favorite_count</th>\n",
       "      <th>retweet_count</th>\n",
       "      <th>text</th>\n",
       "      <th>user_location_ab</th>\n",
       "    </tr>\n",
       "  </thead>\n",
       "  <tbody>\n",
       "    <tr>\n",
       "      <th>0</th>\n",
       "      <td>2017</td>\n",
       "      <td>3</td>\n",
       "      <td>11</td>\n",
       "      <td>ADub</td>\n",
       "      <td>0</td>\n",
       "      <td>16427</td>\n",
       "      <td>RT @GeorgeTakei: The GOP wants to ensure the m...</td>\n",
       "      <td>SK</td>\n",
       "    </tr>\n",
       "    <tr>\n",
       "      <th>1</th>\n",
       "      <td>2017</td>\n",
       "      <td>6</td>\n",
       "      <td>12</td>\n",
       "      <td>Annapolis NDP</td>\n",
       "      <td>1</td>\n",
       "      <td>0</td>\n",
       "      <td>Urgent-health care planning must be based on a...</td>\n",
       "      <td>NS</td>\n",
       "    </tr>\n",
       "    <tr>\n",
       "      <th>2</th>\n",
       "      <td>2017</td>\n",
       "      <td>6</td>\n",
       "      <td>21</td>\n",
       "      <td>Lethbridge living</td>\n",
       "      <td>1</td>\n",
       "      <td>0</td>\n",
       "      <td>This research project is focused on making pri...</td>\n",
       "      <td>AB</td>\n",
       "    </tr>\n",
       "    <tr>\n",
       "      <th>3</th>\n",
       "      <td>2017</td>\n",
       "      <td>6</td>\n",
       "      <td>14</td>\n",
       "      <td>THĒ RÅÏŃ MÅÑ ☔️</td>\n",
       "      <td>0</td>\n",
       "      <td>40988</td>\n",
       "      <td>RT @SenSanders: BREAKING: Senate Republicans j...</td>\n",
       "      <td>AB</td>\n",
       "    </tr>\n",
       "    <tr>\n",
       "      <th>4</th>\n",
       "      <td>2017</td>\n",
       "      <td>6</td>\n",
       "      <td>8</td>\n",
       "      <td>Steven Holland</td>\n",
       "      <td>0</td>\n",
       "      <td>27</td>\n",
       "      <td>RT @AndreaHorwath: Simply appalling. We have t...</td>\n",
       "      <td>ON</td>\n",
       "    </tr>\n",
       "  </tbody>\n",
       "</table>\n",
       "</div>"
      ],
      "text/plain": [
       "   year  month  day          user_name  favorite_count  retweet_count  \\\n",
       "0  2017      3   11               ADub               0          16427   \n",
       "1  2017      6   12      Annapolis NDP               1              0   \n",
       "2  2017      6   21  Lethbridge living               1              0   \n",
       "3  2017      6   14    THĒ RÅÏŃ MÅÑ ☔️               0          40988   \n",
       "4  2017      6    8     Steven Holland               0             27   \n",
       "\n",
       "                                                text user_location_ab  \n",
       "0  RT @GeorgeTakei: The GOP wants to ensure the m...               SK  \n",
       "1  Urgent-health care planning must be based on a...               NS  \n",
       "2  This research project is focused on making pri...               AB  \n",
       "3  RT @SenSanders: BREAKING: Senate Republicans j...               AB  \n",
       "4  RT @AndreaHorwath: Simply appalling. We have t...               ON  "
      ]
     },
     "execution_count": 48,
     "metadata": {},
     "output_type": "execute_result"
    }
   ],
   "source": [
    "pandas_df.head()"
   ]
  },
  {
   "cell_type": "code",
   "execution_count": 49,
   "metadata": {},
   "outputs": [
    {
     "data": {
      "text/plain": [
       "pandas.core.series.Series"
      ]
     },
     "execution_count": 49,
     "metadata": {},
     "output_type": "execute_result"
    }
   ],
   "source": [
    "type(pandas_df['text'])"
   ]
  },
  {
   "cell_type": "code",
   "execution_count": 50,
   "metadata": {},
   "outputs": [],
   "source": [
    "pandas_df['word_count']=pandas_df['text'].apply(lambda x:len(x.split()))"
   ]
  },
  {
   "cell_type": "code",
   "execution_count": 51,
   "metadata": {},
   "outputs": [],
   "source": [
    "pandas_df['char_count']=pandas_df['text'].apply(lambda x:len(x))"
   ]
  },
  {
   "cell_type": "code",
   "execution_count": 52,
   "metadata": {},
   "outputs": [],
   "source": [
    "def average_words(x):\n",
    "    words = x.split()\n",
    "    return sum(len(word) for word in words) / len(words)"
   ]
  },
  {
   "cell_type": "code",
   "execution_count": 53,
   "metadata": {},
   "outputs": [],
   "source": [
    "pandas_df['average_word_len'] = pandas_df['text'].apply(lambda x: average_words(x))"
   ]
  },
  {
   "cell_type": "code",
   "execution_count": 54,
   "metadata": {},
   "outputs": [
    {
     "data": {
      "text/html": [
       "<div>\n",
       "<style scoped>\n",
       "    .dataframe tbody tr th:only-of-type {\n",
       "        vertical-align: middle;\n",
       "    }\n",
       "\n",
       "    .dataframe tbody tr th {\n",
       "        vertical-align: top;\n",
       "    }\n",
       "\n",
       "    .dataframe thead th {\n",
       "        text-align: right;\n",
       "    }\n",
       "</style>\n",
       "<table border=\"1\" class=\"dataframe\">\n",
       "  <thead>\n",
       "    <tr style=\"text-align: right;\">\n",
       "      <th></th>\n",
       "      <th>year</th>\n",
       "      <th>month</th>\n",
       "      <th>day</th>\n",
       "      <th>user_name</th>\n",
       "      <th>favorite_count</th>\n",
       "      <th>retweet_count</th>\n",
       "      <th>text</th>\n",
       "      <th>user_location_ab</th>\n",
       "      <th>word_count</th>\n",
       "      <th>char_count</th>\n",
       "      <th>average_word_len</th>\n",
       "    </tr>\n",
       "  </thead>\n",
       "  <tbody>\n",
       "    <tr>\n",
       "      <th>0</th>\n",
       "      <td>2017</td>\n",
       "      <td>3</td>\n",
       "      <td>11</td>\n",
       "      <td>ADub</td>\n",
       "      <td>0</td>\n",
       "      <td>16427</td>\n",
       "      <td>RT @GeorgeTakei: The GOP wants to ensure the m...</td>\n",
       "      <td>SK</td>\n",
       "      <td>25</td>\n",
       "      <td>139</td>\n",
       "      <td>4.600000</td>\n",
       "    </tr>\n",
       "    <tr>\n",
       "      <th>1</th>\n",
       "      <td>2017</td>\n",
       "      <td>6</td>\n",
       "      <td>12</td>\n",
       "      <td>Annapolis NDP</td>\n",
       "      <td>1</td>\n",
       "      <td>0</td>\n",
       "      <td>Urgent-health care planning must be based on a...</td>\n",
       "      <td>NS</td>\n",
       "      <td>16</td>\n",
       "      <td>115</td>\n",
       "      <td>6.250000</td>\n",
       "    </tr>\n",
       "    <tr>\n",
       "      <th>2</th>\n",
       "      <td>2017</td>\n",
       "      <td>6</td>\n",
       "      <td>21</td>\n",
       "      <td>Lethbridge living</td>\n",
       "      <td>1</td>\n",
       "      <td>0</td>\n",
       "      <td>This research project is focused on making pri...</td>\n",
       "      <td>AB</td>\n",
       "      <td>13</td>\n",
       "      <td>107</td>\n",
       "      <td>7.307692</td>\n",
       "    </tr>\n",
       "    <tr>\n",
       "      <th>3</th>\n",
       "      <td>2017</td>\n",
       "      <td>6</td>\n",
       "      <td>14</td>\n",
       "      <td>THĒ RÅÏŃ MÅÑ ☔️</td>\n",
       "      <td>0</td>\n",
       "      <td>40988</td>\n",
       "      <td>RT @SenSanders: BREAKING: Senate Republicans j...</td>\n",
       "      <td>AB</td>\n",
       "      <td>19</td>\n",
       "      <td>140</td>\n",
       "      <td>6.421053</td>\n",
       "    </tr>\n",
       "    <tr>\n",
       "      <th>4</th>\n",
       "      <td>2017</td>\n",
       "      <td>6</td>\n",
       "      <td>8</td>\n",
       "      <td>Steven Holland</td>\n",
       "      <td>0</td>\n",
       "      <td>27</td>\n",
       "      <td>RT @AndreaHorwath: Simply appalling. We have t...</td>\n",
       "      <td>ON</td>\n",
       "      <td>27</td>\n",
       "      <td>148</td>\n",
       "      <td>4.518519</td>\n",
       "    </tr>\n",
       "  </tbody>\n",
       "</table>\n",
       "</div>"
      ],
      "text/plain": [
       "   year  month  day          user_name  favorite_count  retweet_count  \\\n",
       "0  2017      3   11               ADub               0          16427   \n",
       "1  2017      6   12      Annapolis NDP               1              0   \n",
       "2  2017      6   21  Lethbridge living               1              0   \n",
       "3  2017      6   14    THĒ RÅÏŃ MÅÑ ☔️               0          40988   \n",
       "4  2017      6    8     Steven Holland               0             27   \n",
       "\n",
       "                                                text user_location_ab  \\\n",
       "0  RT @GeorgeTakei: The GOP wants to ensure the m...               SK   \n",
       "1  Urgent-health care planning must be based on a...               NS   \n",
       "2  This research project is focused on making pri...               AB   \n",
       "3  RT @SenSanders: BREAKING: Senate Republicans j...               AB   \n",
       "4  RT @AndreaHorwath: Simply appalling. We have t...               ON   \n",
       "\n",
       "   word_count  char_count  average_word_len  \n",
       "0          25         139          4.600000  \n",
       "1          16         115          6.250000  \n",
       "2          13         107          7.307692  \n",
       "3          19         140          6.421053  \n",
       "4          27         148          4.518519  "
      ]
     },
     "execution_count": 54,
     "metadata": {},
     "output_type": "execute_result"
    }
   ],
   "source": [
    "pandas_df.head()"
   ]
  },
  {
   "cell_type": "code",
   "execution_count": null,
   "metadata": {},
   "outputs": [],
   "source": [
    "# Step 5.2 Import textblob to analysis "
   ]
  },
  {
   "cell_type": "code",
   "execution_count": 55,
   "metadata": {},
   "outputs": [],
   "source": [
    "pandas_df.to_csv('pandas_df.csv', encoding='utf-8', index=False)"
   ]
  },
  {
   "cell_type": "code",
   "execution_count": null,
   "metadata": {},
   "outputs": [],
   "source": []
  },
  {
   "cell_type": "code",
   "execution_count": null,
   "metadata": {},
   "outputs": [],
   "source": []
  },
  {
   "cell_type": "code",
   "execution_count": null,
   "metadata": {},
   "outputs": [],
   "source": []
  }
 ],
 "metadata": {
  "kernelspec": {
   "display_name": "Python 3",
   "language": "python",
   "name": "python3"
  },
  "language_info": {
   "codemirror_mode": {
    "name": "ipython",
    "version": 3
   },
   "file_extension": ".py",
   "mimetype": "text/x-python",
   "name": "python",
   "nbconvert_exporter": "python",
   "pygments_lexer": "ipython3",
   "version": "3.6.7"
  }
 },
 "nbformat": 4,
 "nbformat_minor": 2
}
